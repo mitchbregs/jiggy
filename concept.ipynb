{
 "cells": [
  {
   "cell_type": "code",
   "execution_count": 1,
   "metadata": {},
   "outputs": [],
   "source": [
    "import json\n",
    "from importlib import import_module"
   ]
  },
  {
   "cell_type": "code",
   "execution_count": 2,
   "metadata": {},
   "outputs": [],
   "source": [
    "# Read in Pipeline YAML/JSON\n",
    "jigsaw = json.load(open('example.json'))"
   ]
  },
  {
   "cell_type": "code",
   "execution_count": 3,
   "metadata": {},
   "outputs": [
    {
     "data": {
      "text/plain": [
       "{'name': 'Sum Random and Multiply Random And Push to DB',\n",
       " 'description': 'This pipeline generates a random integer, passes it to the next task that creates and sums another random integer, repeat for multiplication by 2, then pushes results to a database.',\n",
       " 'author': 'xyz@company.com',\n",
       " 'version': '0.0.1',\n",
       " 'pipeline': {'executor': 'sequential',\n",
       "  'secrets': '.env',\n",
       "  'tasks': [{'name': 'create-first-random-number',\n",
       "    'description': 'Generates a random number',\n",
       "    'function': {'source': 'src.utils.random_num',\n",
       "     'params': None,\n",
       "     'output': [{'type': 'int', 'id': 'randum-num-1'}]},\n",
       "    'dependencies': None,\n",
       "    'requires': None},\n",
       "   {'name': 'sum-first-to-second-random',\n",
       "    'description': 'Takes input from first task and adds second random',\n",
       "    'function': {'source': 'src.utils.add',\n",
       "     'params': [{'type': 'int', 'value': 'random-num-1'}],\n",
       "     'output': [{'type': 'int', 'id': 'randum-num-2'}]},\n",
       "    'dependencies': 'create-first-random-number',\n",
       "    'requires': None},\n",
       "   {'name': 'multiply-randoms-by-2',\n",
       "    'description': 'Takes input from final addition step and multiplies by 2',\n",
       "    'function': {'source': 'src.utils.multiply',\n",
       "     'params': [{'type': 'int', 'value': 'random-num-2'},\n",
       "      {'type': 'int', 'value': 2}],\n",
       "     'output': [{'type': 'int', 'id': 'final-numer'}]},\n",
       "    'dependencies': 'sum-first-to-second-random',\n",
       "    'requires': None},\n",
       "   {'name': 'push-to-db',\n",
       "    'description': 'Persists database with final number',\n",
       "    'function': {'source': 'jiggy.PostgresExecute',\n",
       "     'config': {'host': 'secrets.pg_host',\n",
       "      'port': 'secrets.pg_port',\n",
       "      'username': 'secrets.pg_username',\n",
       "      'password': 'secrets.pg_password',\n",
       "      'dbname': 'secrets.pg_dbname'},\n",
       "     'params': [{'query': 'INSERT INTO schema.table (num, stamp) VALUES (%s, %s)',\n",
       "       'data': [{'type': 'int', 'value': 'final-number'},\n",
       "        {'type': 'datetime', 'value': 'now'}]}],\n",
       "     'output': None,\n",
       "     'dependencies': 'multiply-randoms',\n",
       "     'requires': None}}]}}"
      ]
     },
     "execution_count": 3,
     "metadata": {},
     "output_type": "execute_result"
    }
   ],
   "source": [
    "jigsaw"
   ]
  },
  {
   "cell_type": "code",
   "execution_count": 4,
   "metadata": {},
   "outputs": [],
   "source": [
    "# Import relevant modules\n",
    "imports = []\n",
    "for task in jigsaw['pipeline']['tasks']:\n",
    "    imports.append(task['function']['source'])"
   ]
  },
  {
   "cell_type": "code",
   "execution_count": 5,
   "metadata": {},
   "outputs": [],
   "source": [
    "# Handle package vs module separation\n",
    "def parse_module(module_path):\n",
    "    package = '.'.join(module_path.split('.')[:2])\n",
    "    module = module_path.split('.')[-1]\n",
    "    return package, module"
   ]
  },
  {
   "cell_type": "code",
   "execution_count": 6,
   "metadata": {},
   "outputs": [
    {
     "name": "stdout",
     "output_type": "stream",
     "text": [
      "src.utils.random_num\n",
      "('src.utils', 'random_num')\n"
     ]
    }
   ],
   "source": [
    "print(imports[0])\n",
    "load = parse_module(imports[0])\n",
    "print(load)\n",
    "module = import_module(load[0])"
   ]
  },
  {
   "cell_type": "code",
   "execution_count": 7,
   "metadata": {},
   "outputs": [
    {
     "data": {
      "text/plain": [
       "9"
      ]
     },
     "execution_count": 7,
     "metadata": {},
     "output_type": "execute_result"
    }
   ],
   "source": [
    "# Can't figure out how to dynamically call ``random_num``\n",
    "rd1 = module.random_num()\n",
    "rd1"
   ]
  },
  {
   "cell_type": "code",
   "execution_count": 54,
   "metadata": {},
   "outputs": [],
   "source": [
    "class Task(object):\n",
    "    def __init__(self, name):\n",
    "        self.name = name\n",
    "    def __repr__(self):\n",
    "        return '<JigTask ``>'.format(self.name)\n",
    "    def run(self):\n",
    "        raise NotImplementedError()"
   ]
  },
  {
   "cell_type": "code",
   "execution_count": 62,
   "metadata": {},
   "outputs": [
    {
     "ename": "SyntaxError",
     "evalue": "invalid syntax (<ipython-input-62-352ca8f9a162>, line 5)",
     "output_type": "error",
     "traceback": [
      "\u001b[0;36m  File \u001b[0;32m\"<ipython-input-62-352ca8f9a162>\"\u001b[0;36m, line \u001b[0;32m5\u001b[0m\n\u001b[0;31m    def __repr__(self)\u001b[0m\n\u001b[0m                      ^\u001b[0m\n\u001b[0;31mSyntaxError\u001b[0m\u001b[0;31m:\u001b[0m invalid syntax\n"
     ]
    }
   ],
   "source": [
    "class Add(Task):\n",
    "    def __init__(self, name):\n",
    "        self.name = name\n",
    "        super(Add, self).__init__(name)\n",
    "    def __repr__(self)\n",
    "    def run(self, x, y):\n",
    "        return x+y"
   ]
  },
  {
   "cell_type": "code",
   "execution_count": 63,
   "metadata": {},
   "outputs": [
    {
     "data": {
      "text/plain": [
       "7"
      ]
     },
     "execution_count": 63,
     "metadata": {},
     "output_type": "execute_result"
    }
   ],
   "source": [
    "x = Add('add-random-numbers')\n",
    "x.run(2, 5)"
   ]
  },
  {
   "cell_type": "code",
   "execution_count": 61,
   "metadata": {},
   "outputs": [
    {
     "data": {
      "text/plain": [
       "<JigTask ``>"
      ]
     },
     "execution_count": 61,
     "metadata": {},
     "output_type": "execute_result"
    }
   ],
   "source": [
    "x.name"
   ]
  },
  {
   "cell_type": "code",
   "execution_count": null,
   "metadata": {},
   "outputs": [],
   "source": []
  },
  {
   "cell_type": "code",
   "execution_count": null,
   "metadata": {},
   "outputs": [],
   "source": []
  }
 ],
 "metadata": {
  "kernelspec": {
   "display_name": "Python 3",
   "language": "python",
   "name": "python3"
  },
  "language_info": {
   "codemirror_mode": {
    "name": "ipython",
    "version": 3
   },
   "file_extension": ".py",
   "mimetype": "text/x-python",
   "name": "python",
   "nbconvert_exporter": "python",
   "pygments_lexer": "ipython3",
   "version": "3.7.3"
  }
 },
 "nbformat": 4,
 "nbformat_minor": 4
}
